{
 "cells": [
  {
   "cell_type": "markdown",
   "metadata": {},
   "source": [
    "# PHYS3116\n",
    "\n",
    "## Stellar Model"
   ]
  },
  {
   "cell_type": "markdown",
   "metadata": {},
   "source": [
    "## From Part 1:"
   ]
  },
  {
   "cell_type": "code",
   "execution_count": null,
   "metadata": {},
   "outputs": [],
   "source": [
    "# Import the libraries we need.\n",
    "\n",
    "import numpy as np"
   ]
  },
  {
   "cell_type": "code",
   "execution_count": null,
   "metadata": {},
   "outputs": [],
   "source": [
    "# Define physical constants.\n",
    "# All values come from Appendix A of Carroll & Ostlie\n",
    "\n",
    "a = 7.565767E-16               # Radiation constant, J mol^-3 K^-4\n",
    "G = 6.67428E-11                # Gravitational constant, m^3 kg^-1 s^-2\n",
    "c = 2.99792458E8               # Speed of light, m s^-1\n",
    "boltzmann = 1.3806504E-23      # Boltzmann's constant, J K^-1\n",
    "H_mass = 1.673532499E-27       # Mass of a hydrogen atom, kg\n",
    "sigma = 5.670400E-8            # Stefan-Boltzmann constant, W m^-2 K^-4\n",
    "R = boltzmann/H_mass           # Ideal gas constant, J K^-1 kg^-1\n",
    "\n",
    "# Solar parameters:\n",
    "\n",
    "Msun = 1.989E30  \n",
    "\n",
    "# Stellar parameters:\n",
    "\n",
    "Mtot = 1.2*Msun                 # 20% more massive than the Sun \n",
    "X = 0.7                      # Mass fraction of hydrogen\n",
    "Y = 0.2                      # Mass fraction of helium\n",
    "log_pc_i = 17.1                # Initial estimate for pressure at the centre of the star (slightly higher than Sun)\n",
    "log_tc_i = 7.4                 # Initial estimate for temperature at the centre of the star (slightly higher than Sun)\n",
    "log_rs_i = 8.85                # Initial estimate for full radius of the star (slightly higher than Sun)\n",
    "log_ls_i = 26.6                # Initial estimate for full luminosity of the star (slightly higher than Sun)"
   ]
  },
  {
   "cell_type": "code",
   "execution_count": null,
   "metadata": {},
   "outputs": [],
   "source": [
    "# Define functions from Part 1:\n",
    "\n",
    "def mean_molecular_weight(X,Y):\n",
    "    \"\"\"\n",
    "    Calculates the mean molecular weight.\n",
    "    \n",
    "    Parameters\n",
    "    ----------\n",
    "    X: float\n",
    "        Mass fraction of hydrogen\n",
    "    Y: float\n",
    "        Mass fraction of helium\n",
    "        \n",
    "    Returns\n",
    "    -------\n",
    "    mu: float\n",
    "        Mean molecular weight\n",
    "    \"\"\"\n",
    "    \n",
    "    Z = (1 - X - Y)\n",
    "    mu = 1/((2*X)+(0.75*Y)+(0.5*Z))\n",
    "    \n",
    "    return mu\n",
    "\n",
    "def density(P,T,mu):\n",
    "    \"\"\"\n",
    "    Calculates the density.\n",
    "    \n",
    "    Parameters\n",
    "    ----------\n",
    "    P: float\n",
    "        Total pressure\n",
    "    T: float\n",
    "        Temperature\n",
    "    mu: float\n",
    "        Mean molecular weight\n",
    "        \n",
    "    Returns\n",
    "    -------\n",
    "    rho: float\n",
    "        Density\n",
    "    \"\"\"\n",
    "    \n",
    "    rho = (mu/(R*T))*(P-(a*T**4)/3)\n",
    "    \n",
    "    return rho\n",
    "\n",
    "def pressure_to_density_beta(X, Y, logT, logP):\n",
    "    \"\"\"\n",
    "    Accepts values for X, Y, log(T), and log(P), and returns values for rho and beta.\n",
    "    \"\"\"\n",
    "    \n",
    "    mu = mean_molecular_weight(X,Y)\n",
    "    rho = density(10**logP, 10**logT, mu)\n",
    "    gas_pressure = (R/mu)*rho*(10**logT)\n",
    "    beta = gas_pressure/(10**logP)\n",
    "    \n",
    "    return rho, beta\n",
    "\n",
    "def opacity(logT, logrho, X, Y):\n",
    "    T = 10**logT\n",
    "    rho = 10**(logrho - 3)        # -3 converts input quantities from SI to cgs units to support coefficients below\n",
    "    \n",
    "    #Kramer's opacity law: kappa is proportional to rho and T^-3.5\n",
    "    k_bf = (4.34e25*(1-X-Y)*(1+X)*rho*np.power(T,-3.5))/(2.82*np.power(rho*(1+X),0.2))  #bound-free absorption\n",
    "    k_ff = 3.68e22*(X+Y)*(1+X)*rho*np.power(T,-3.5)                                     #free-free absorption\n",
    "    k_es = 0.2*(1+X)                                                                    #electron scattering\n",
    "    \n",
    "    return np.log10(k_bf + k_ff + k_es) - 1                                             # -1 to convert to SI units\n",
    "\n",
    "def energy_generation(logrho,logT,X,Y):\n",
    "    t6 = (10**logT)/(1E6)\n",
    "    rho = 10**logrho\n",
    "    Xcno = 0.7263*(1-X-Y)\n",
    "    \n",
    "    eps_pp = 0.241*rho*np.power(X,2)*np.power(t6,-2/3)*np.exp(-33.8/np.power(t6,1/3))\n",
    "    eps_CNO = 8.67E20*rho*X*Xcno*np.power(t6,-2/3)*np.exp(-152.28/np.power(t6,1/3))\n",
    "\n",
    "    eps = eps_pp + eps_CNO\n",
    "    \n",
    "    return eps"
   ]
  },
  {
   "cell_type": "markdown",
   "metadata": {},
   "source": [
    "## Part 2:"
   ]
  },
  {
   "cell_type": "markdown",
   "metadata": {},
   "source": [
    "In part two, we are going to calculate initial values for radius, luminosity, pressure, and temperature at both the centre and the surface of the star we are modelling. At each of these locations two of these quantities can be reasonably well estimated, while the other two must be calculated based on the first two."
   ]
  },
  {
   "cell_type": "markdown",
   "metadata": {},
   "source": [
    "#### Centre of star:"
   ]
  },
  {
   "cell_type": "markdown",
   "metadata": {},
   "source": [
    "We are going to use the four differential stellar structure equations. We can't begin our model at the very centre of the star, because all of the derivatives are zero there. Instead we will begin a small distance from the centre, and use a Taylor series expansion to solve the equations. If we choose our small distance to be $m = 0.01\\%$ of the mass of the star (with a stellar mass of $M_{star} = 1.2 \\times M_{\\odot}$), the following equations give the values for the radius and luminosity: \n",
    "\n",
    "$R = \\left(\\frac{3}{4\\pi\\rho}\\right)^{1/3}m^{1/3}$\n",
    "\n",
    "$L = \\epsilon m$"
   ]
  },
  {
   "cell_type": "markdown",
   "metadata": {},
   "source": [
    "We need to make an initial estimate of the central pressure and temperature. We will refine these estimates towards their true values as the stellar model program runs. For now, because our star is slightly more massive than the Sun, we choose values that are slightly higher than those for the Sun: $\\log(P_c) = 17.1$, $\\log(T_c) = 7.4$. Now to calculate the pressure and temperature at a small distance from the centre of the star, we add small offsets. Our pressure is now expressed as:\n",
    "\n",
    "$P = P_c - \\frac{3G}{8\\pi}\\left(\\frac{4\\pi\\rho}{3}\\right)^{4/3}m^{2/3}$"
   ]
  },
  {
   "cell_type": "markdown",
   "metadata": {},
   "source": [
    "There are two possible offsets for the temperature, depending on which is steeper of the adiabatic temperature gradient, and the radiative temperature gradient.\n",
    "\n",
    "The adiabatic temperature gradient is $\\nabla_{ad} = \\frac{\\frac{(1-\\beta)(4+\\beta)}{\\beta^2}+1}{\\frac{4(1-\\beta)(4+\\beta)}{\\beta^2}+2.5}$\n",
    "\n",
    "The radiative temperature gradient is $\\nabla_{rad} = \\frac{3\\kappa LP}{16\\pi GacT_c^4m}$"
   ]
  },
  {
   "cell_type": "markdown",
   "metadata": {},
   "source": [
    "If $\\nabla_{ad}$ is the smaller value, the the star is convective and the temperature at a small distance from the centre of the star is calculated as:\n",
    "\n",
    "$\\ln(T) = \\ln(T_c) - \\left(\\frac{\\pi}{6}\\right)^{1/3}G\\frac{\\nabla_{ad}\\rho^{4/3}}{P_c}m^{2/3}$"
   ]
  },
  {
   "cell_type": "markdown",
   "metadata": {},
   "source": [
    "On the other hand, if $\\nabla_{rad}$ is smaller, then the star is radiative and the temperature at a small distance from the star is calculated as:\n",
    "\n",
    "$T^4 = T_c^4 - \\frac{1}{2ac}\\left(\\frac{3}{4\\pi}\\right)^{2/3}\\kappa\\epsilon\\rho^{4/3}m^{2/3}$"
   ]
  },
  {
   "cell_type": "markdown",
   "metadata": {},
   "source": [
    "We will now write a function that accepts input values of $m$, $P_c$, and $T_c$, and calls the functions from Part 1 to calculate $\\rho$, $\\epsilon$, and $\\kappa$, before calculating and returning values for $R$, $L$, $P$, and $T$ at a small distance from the centre of the star."
   ]
  },
  {
   "cell_type": "code",
   "execution_count": null,
   "metadata": {},
   "outputs": [],
   "source": [
    "def centre(m, log_pc_i, log_tc_i, X, Y):\n",
    "    p_c_i = 10**log_pc_i\n",
    "    t_c_i = 10**log_tc_i\n",
    "    \n",
    "    ## Incorporate previously defined functions ##\n",
    "    rho_c, beta_c = pressure_to_density_beta(X=X, Y=Y, logT=log_tc_i, logP=log_pc_i)\n",
    "    epsilon_c = energy_generation(logrho=np.log10(rho_c), logT=log_tc_i, X=X, Y=Y)\n",
    "    log_kappa_c = opacity(logT=log_tc_i, logrho=np.log10(rho_c), X=X, Y=Y)\n",
    "    kappa_c = 10**log_kappa_c\n",
    "    \n",
    "    ## Calculate radius, luminosity, and pressure ##\n",
    "    r_c = np.power(0.75/(np.pi*rho_c), 1/3)*np.power(m, 1/3)\n",
    "    l_c = epsilon_c*m\n",
    "    p_c = p_c_i - (3*G/(8*np.pi))*np.power((4*np.pi*rho_c)/3, 4/3)*np.power(m, 2/3)\n",
    "    \n",
    "    ## Define temperature gradients ##\n",
    "    grad_ad = (((1-beta_c)*(4+beta_c))/(beta_c**2) + 1)/(((4*(1-beta_c)*(4+beta_c))/(beta_c**2))+2.5)\n",
    "    grad_rad = (3*kappa_c*l_c*p_c)/(16*np.pi*G*a*c*m*np.power(t_c_i, 4))\n",
    "    \n",
    "    ## Calculate temperature for convective/radiative core ##\n",
    "    if grad_rad < grad_ad:\n",
    "        t_4 = np.power(t_c_i, 4) - (0.5/(a*c))*np.power(0.75/np.pi, 2/3)*kappa_c*epsilon_c*np.power(rho_c, 4/3)*np.power(m, 2/3)\n",
    "        t_c = np.power(t_4, 1/4)\n",
    "        print('Core is radiative!')\n",
    "    else:\n",
    "        ln_t = np.log(t_c_i) - np.power(np.pi/6, 1/3)*G*grad_ad*np.power(rho_c, 4/3)*np.power(m, 2/3)/p_c_i\n",
    "        t_c = np.exp(ln_t)\n",
    "        print('Core is convective!')\n",
    "    \n",
    "    return r_c, l_c, p_c, t_c"
   ]
  },
  {
   "cell_type": "markdown",
   "metadata": {},
   "source": [
    "Let's test this for our star. We will use $M_{star} = 1.2 \\times M_{\\odot}$ and $m = 0.01\\% \\times M_{star}$. Let $\\log(P_c) = 17.1$, $\\log(T_c) = 7.4$, $X = 0.7$, and $Y = 0.2$."
   ]
  },
  {
   "cell_type": "code",
   "execution_count": null,
   "metadata": {},
   "outputs": [],
   "source": [
    "m = 1E-4*Mtot         # Mass of core, 0.01% stellar mass.\n",
    "\n",
    "test_rc, test_lc, test_pc, test_tc = centre(m=m, log_pc_i=log_pc_i, log_tc_i=log_tc_i, X=X, Y=Y)\n",
    "print('Core Radius: ', test_rc)\n",
    "print('Core Luminosity: ', test_lc)\n",
    "print('Core Pressure: ', test_pc)\n",
    "print('Core Temperature: ', test_tc)"
   ]
  },
  {
   "cell_type": "markdown",
   "metadata": {},
   "source": [
    "#### Surface of star:"
   ]
  },
  {
   "cell_type": "markdown",
   "metadata": {},
   "source": [
    "Here we need to make an initial estimate of the full radius and luminosity of the star. Like the central temperature and pressure, these values will be refined towards their true values as the stellar model program runs. Once again, because our star is slightly more massive than the Sun, we will choose values that are slightly higher than those for the Sun: $\\log(R_s) = 8.85$, $\\log(L_s) = 26.6$. Now we can calculate the temperature at the surface of the star $T_s$ by rearranging the expression for the star's total luminosity:\n",
    "\n",
    "$L_s = 4\\pi R_s^2\\sigma T_s^4$\n",
    "\n",
    "Where $\\sigma$ is the Stefan-Boltzmann constant. This gives:\n",
    "\n",
    "$T_s = \\left(\\frac{L_s}{4\\pi R_s^2\\sigma}\\right)^{1/4}$"
   ]
  },
  {
   "cell_type": "markdown",
   "metadata": {},
   "source": [
    "The pressure at the surface is a little more difficult to find. We have:\n",
    "\n",
    "$P_s = \\frac{GM_{tot}}{R_s^2}\\frac{2}{3}\\frac{1}{\\kappa}$\n",
    "\n",
    "Where $M_{tot}$ is the total mass of the star ($1.2\\times M_\\odot$). However to interpolate the opacity $\\kappa$ we need to know density $\\rho$, and to calculate $\\rho$ we need to know the pressure at the surface $P_s$. To get around this, we will start with a trial value of $P_s = 10^3$, calculate $\\rho$, find $\\kappa$, and then calculate $P_s$. If our calculated value for $P_s$ is within $5\\%$ of the trial value we will accept this as the right answer. If it is not, we will need to adjust the trial value toward the calculated value and try again. "
   ]
  },
  {
   "cell_type": "markdown",
   "metadata": {},
   "source": [
    "Let's write a function that accepts input values of $M_{tot}$, $\\log(R_s)$, and $\\log(L_s)$, and uses these values to calculate and return values for $T_s$ and $P_s$. Our function will include a loop that takes a trial value of $P_s$, calculates $\\rho$, finds $\\kappa$, and calculates $P_s$, and then iterates until the trial and calculated values of $P_s$ are within $5\\%$ of each other. "
   ]
  },
  {
   "cell_type": "code",
   "execution_count": null,
   "metadata": {},
   "outputs": [],
   "source": [
    "def surface(Mtot, log_rs_i, log_ls_i, init_ps):\n",
    "    r_s = 10**log_rs_i\n",
    "    l_s = 10**log_ls_i\n",
    "    t_s = np.power(l_s/(4*np.pi*np.power(r_s, 2)*sigma), 1/4)\n",
    "    \n",
    "    trial_ps = init_ps\n",
    "    candidate_ps = 0\n",
    "    \n",
    "    while np.abs((trial_ps - candidate_ps)/trial_ps) > 0.05:\n",
    "        diff = trial_ps - candidate_ps\n",
    "        trial_ps = trial_ps - 0.1*diff\n",
    "        rho_s, beta_s = pressure_to_density_beta(X=X, Y=Y, logT=np.log10(t_s), logP=np.log10(trial_ps))\n",
    "        log_kappa_s = opacity(logT=np.log10(t_s), logrho=np.log10(rho_s), X=X, Y=Y)\n",
    "        kappa_s = 10**log_kappa_s\n",
    "        candidate_ps = (2*G*Mtot)/(3*kappa_s*(r_s**2))\n",
    "        \n",
    "    return r_s, l_s, candidate_ps, t_s"
   ]
  },
  {
   "cell_type": "markdown",
   "metadata": {},
   "source": [
    "Let's test this for our star. We will use the same mass and composition as above. Let $\\log(R_s) = 8.85$, and $\\log(L_s) = 26.6$."
   ]
  },
  {
   "cell_type": "code",
   "execution_count": null,
   "metadata": {},
   "outputs": [],
   "source": [
    "test_rs, test_ls, test_ps, test_ts = surface(Mtot=Mtot, log_rs_i=log_rs_i, log_ls_i=log_ls_i, init_ps=1E3)\n",
    "print('Surface Radius: ', test_rs)\n",
    "print('Surface Luminosity: ', test_ls)\n",
    "print('Surface Pressure: ', test_ps)\n",
    "print('Surface Temperature: ', test_ts)"
   ]
  },
  {
   "cell_type": "markdown",
   "metadata": {},
   "source": [
    "#### Finding the derivatives:"
   ]
  },
  {
   "cell_type": "markdown",
   "metadata": {},
   "source": [
    "The stellar structure equations are differential equations for $R$, $L$, $P$, and $T$ with respect to $m$. We can calculate the derivatives $\\frac{\\partial R}{\\partial m}$, $\\frac{\\partial L}{\\partial m}$, $\\frac{\\partial P}{\\partial m}$, and $\\frac{\\partial T}{\\partial m}$ from the following equations:\n",
    "\n",
    "$\\frac{\\partial R}{\\partial m} = \\frac{1}{4\\pi R^2 \\rho}$\n",
    "\n",
    "$\\frac{\\partial L}{\\partial m} = \\epsilon$\n",
    "\n",
    "$\\frac{\\partial P}{\\partial m} = -\\frac{Gm}{4\\pi R^4}$\n",
    "\n",
    "$\\frac{\\partial T}{\\partial m} = -\\frac{GmT}{4\\pi R^4 P}\\nabla$\n",
    "\n",
    "Where $\\nabla$ is the smaller of $\\nabla_{rad}$ and $\\nabla_{ad}$"
   ]
  },
  {
   "cell_type": "markdown",
   "metadata": {},
   "source": [
    "Let's write a function that accepts an input value of a mass coordinate $m$, as well as an input array for $R$, $L$, $P$, and $T$, then uses our previous functions to calculate $\\kappa$, $\\rho$, $\\beta$, and $\\epsilon$, before returning the four derivatives $\\frac{\\partial R}{\\partial m}$, $\\frac{\\partial L}{\\partial m}$, $\\frac{\\partial P}{\\partial m}$, and $\\frac{\\partial T}{\\partial m}$."
   ]
  },
  {
   "cell_type": "code",
   "execution_count": null,
   "metadata": {},
   "outputs": [],
   "source": [
    "def partial_derivatives(m, rlpt):\n",
    "    # Unpack rlpt\n",
    "    r = rlpt[0]\n",
    "    l = rlpt[1]\n",
    "    p = rlpt[2]\n",
    "    t = rlpt[3]\n",
    "    \n",
    "    # Convert to log10 as this is used in our previous functions\n",
    "    logl = np.log10(l)\n",
    "    logp = np.log10(p)\n",
    "    logt = np.log10(t)\n",
    "    \n",
    "    # Use previous functions to calculate rho, beta, epsilon, and kappa\n",
    "    rho, beta = pressure_to_density_beta(X=X, Y=Y, logT=logt, logP=logp)\n",
    "    logrho = np.log10(rho)\n",
    "    epsilon = energy_generation(logrho=logrho, logT=logt, X=X, Y=Y)\n",
    "    log_kappa = opacity(logT=logt, logrho=logrho, X=X, Y=Y)\n",
    "    kappa = 10**log_kappa\n",
    "    \n",
    "    # Calculate grad as the lesser of grad_rad and grad_ad\n",
    "    grad_ad = (((1-beta)*(4+beta))/(beta**2) + 1)/(((4*(1-beta)*(4+beta))/(beta**2))+2.5)\n",
    "    grad_rad = (3*kappa*l*p)/(16*np.pi*G*a*c*m*np.power(t, 4))\n",
    "    grad = min(grad_rad, grad_ad)\n",
    "    \n",
    "    # Find the derivatives in our equations of stellar structure\n",
    "    drdm = 1/(4*np.pi*np.power(r, 2)*rho)\n",
    "    dldm = epsilon\n",
    "    dpdm = -(G*m)/(4*np.pi*np.power(r, 4))\n",
    "    dtdm = -(G*m*t*grad)/(4*np.pi*p*np.power(r, 4))\n",
    "\n",
    "    return [drdm, dldm, dpdm, dtdm]"
   ]
  },
  {
   "cell_type": "markdown",
   "metadata": {},
   "source": [
    "Finally for part 2, let's test this for our star using the values found above. We will find the derivatives for a mass coordinate at the surface (i.e. $m = M_{tot} = 1.2\\times M_\\odot$)."
   ]
  },
  {
   "cell_type": "code",
   "execution_count": null,
   "metadata": {
    "scrolled": true
   },
   "outputs": [],
   "source": [
    "test_derivatives = partial_derivatives(m=Mtot, rlpt=list(surface(Mtot, log_rs_i, log_ls_i, init_ps=1E3)))\n",
    "print('drdm: ', test_derivatives[0])\n",
    "print('dldm: ', test_derivatives[1])\n",
    "print('dpdm: ', test_derivatives[2])\n",
    "print('dtdm: ', test_derivatives[3])"
   ]
  },
  {
   "cell_type": "markdown",
   "metadata": {},
   "source": [
    "## Next week:"
   ]
  },
  {
   "cell_type": "markdown",
   "metadata": {},
   "source": [
    "In Part 3 we will integrate the stellar structure equations outward from the centre and inward from the surface. The goal is for the two integrations to meet at $m = \\frac{2}{3}M_{tot}$, though this probably won't happen until Part 4."
   ]
  }
 ],
 "metadata": {
  "kernelspec": {
   "display_name": "Python 3",
   "language": "python",
   "name": "python3"
  },
  "language_info": {
   "codemirror_mode": {
    "name": "ipython",
    "version": 3
   },
   "file_extension": ".py",
   "mimetype": "text/x-python",
   "name": "python",
   "nbconvert_exporter": "python",
   "pygments_lexer": "ipython3",
   "version": "3.7.3"
  }
 },
 "nbformat": 4,
 "nbformat_minor": 2
}
